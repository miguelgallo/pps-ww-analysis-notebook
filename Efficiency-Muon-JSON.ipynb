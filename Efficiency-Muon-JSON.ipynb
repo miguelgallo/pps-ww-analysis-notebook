{
 "cells": [
  {
   "cell_type": "code",
   "execution_count": 1,
   "id": "extensive-label",
   "metadata": {},
   "outputs": [],
   "source": [
    "import numpy as np\n",
    "import json"
   ]
  },
  {
   "cell_type": "code",
   "execution_count": 3,
   "id": "disciplinary-advertiser",
   "metadata": {},
   "outputs": [],
   "source": [
    "fileName = \"efficiencies/muon/2017/RunBCDEF_SF_ID_syst.json\"\n",
    "json_data = None\n",
    "with open( fileName, 'r' ) as f:\n",
    "    json_data = json.load( f )"
   ]
  },
  {
   "cell_type": "code",
   "execution_count": 6,
   "id": "needed-thinking",
   "metadata": {
    "scrolled": true
   },
   "outputs": [
    {
     "data": {
      "text/plain": [
       "{'abseta:[0.00,0.90]': {'pt:[20.00,25.00]': {'stat': 0.0034967203087024274,\n",
       "   'syst': 0.0033784600015559934,\n",
       "   'value': 0.9910777627756951},\n",
       "  'pt:[25.00,30.00]': {'stat': 0.0018975082960536634,\n",
       "   'syst': 0.0013728208587884525,\n",
       "   'value': 0.987410468262084},\n",
       "  'pt:[30.00,40.00]': {'stat': 0.0003977503197109705,\n",
       "   'syst': 0.0016738738386611138,\n",
       "   'value': 0.9907753279135898},\n",
       "  'pt:[40.00,50.00]': {'stat': 0.00032329941312374114,\n",
       "   'syst': 0.00044879534603055863,\n",
       "   'value': 0.9892483588952047},\n",
       "  'pt:[50.00,60.00]': {'stat': 0.0008602730194340781,\n",
       "   'syst': 0.0026468400772161897,\n",
       "   'value': 0.9855545160334763},\n",
       "  'pt:[60.00,120.00]': {'stat': 0.0016204327419630327,\n",
       "   'syst': 0.0029603698064314564,\n",
       "   'value': 0.9898057377093389}},\n",
       " 'abseta:[0.90,1.20]': {'pt:[20.00,25.00]': {'stat': 0.004743737066128366,\n",
       "   'syst': 0.05824482327699227,\n",
       "   'value': 0.9927389275515244},\n",
       "  'pt:[25.00,30.00]': {'stat': 0.02187876084241925,\n",
       "   'syst': 0.0012765369881850214,\n",
       "   'value': 0.985063939762512},\n",
       "  'pt:[30.00,40.00]': {'stat': 0.0006903526352667042,\n",
       "   'syst': 0.002236963371158627,\n",
       "   'value': 0.9865359464182247},\n",
       "  'pt:[40.00,50.00]': {'stat': 0.02013503091494561,\n",
       "   'syst': 0.0008269486916316795,\n",
       "   'value': 0.984913093101493},\n",
       "  'pt:[50.00,60.00]': {'stat': 0.00159172336926836,\n",
       "   'syst': 0.0005580842971828444,\n",
       "   'value': 0.9839056384760008},\n",
       "  'pt:[60.00,120.00]': {'stat': 0.012127878049119219,\n",
       "   'syst': 0.0029433201859022325,\n",
       "   'value': 0.984060403143468}},\n",
       " 'abseta:[1.20,2.10]': {'pt:[20.00,25.00]': {'stat': 0.007785952740242002,\n",
       "   'syst': 0.00039706224805775766,\n",
       "   'value': 0.9924252719877384},\n",
       "  'pt:[25.00,30.00]': {'stat': 0.014905356047753367,\n",
       "   'syst': 0.0006793062281006464,\n",
       "   'value': 0.9890884461284933},\n",
       "  'pt:[30.00,40.00]': {'stat': 0.012424223689919973,\n",
       "   'syst': 0.0024501128584746546,\n",
       "   'value': 0.9946469069883841},\n",
       "  'pt:[40.00,50.00]': {'stat': 0.009931678115496967,\n",
       "   'syst': 0.0007275152031795276,\n",
       "   'value': 0.9926528825155183},\n",
       "  'pt:[50.00,60.00]': {'stat': 0.000971321379850273,\n",
       "   'syst': 0.000572208332754971,\n",
       "   'value': 0.9906364222943529},\n",
       "  'pt:[60.00,120.00]': {'stat': 0.0021353964567237746,\n",
       "   'syst': 0.001827307041730648,\n",
       "   'value': 0.9920464322143979}},\n",
       " 'abseta:[2.10,2.40]': {'pt:[20.00,25.00]': {'stat': 0.004399315121784104,\n",
       "   'syst': 0.0010823294787166027,\n",
       "   'value': 0.9758095839531763},\n",
       "  'pt:[25.00,30.00]': {'stat': 0.0027111009825340473,\n",
       "   'syst': 0.0012417863344804164,\n",
       "   'value': 0.9745153594179884},\n",
       "  'pt:[30.00,40.00]': {'stat': 0.001003557787201416,\n",
       "   'syst': 0.0031240443518050385,\n",
       "   'value': 0.9787410500158746},\n",
       "  'pt:[40.00,50.00]': {'stat': 0.0011230605941385397,\n",
       "   'syst': 0.001642569089620452,\n",
       "   'value': 0.978189122919501},\n",
       "  'pt:[50.00,60.00]': {'stat': 0.0037006525169638958,\n",
       "   'syst': 0.002109418029304856,\n",
       "   'value': 0.9673568416097894},\n",
       "  'pt:[60.00,120.00]': {'stat': 0.00862666466882855,\n",
       "   'syst': 0.004153806848283528,\n",
       "   'value': 0.9766311856731202}}}"
      ]
     },
     "execution_count": 6,
     "metadata": {},
     "output_type": "execute_result"
    }
   ],
   "source": [
    "json_data[ 'NUM_TightID_DEN_genTracks' ][ 'abseta_pt' ]"
   ]
  },
  {
   "cell_type": "code",
   "execution_count": 8,
   "id": "driven-myanmar",
   "metadata": {},
   "outputs": [
    {
     "name": "stdout",
     "output_type": "stream",
     "text": [
      "abseta:[0.00,0.90]\n",
      "abseta:[0.90,1.20]\n",
      "abseta:[1.20,2.10]\n",
      "abseta:[2.10,2.40]\n"
     ]
    }
   ],
   "source": [
    "for item in json_data[ 'NUM_TightID_DEN_genTracks' ][ 'abseta_pt' ]: print ( item )"
   ]
  },
  {
   "cell_type": "code",
   "execution_count": null,
   "id": "concrete-institute",
   "metadata": {},
   "outputs": [],
   "source": []
  }
 ],
 "metadata": {
  "kernelspec": {
   "display_name": "Python 3",
   "language": "python",
   "name": "python3"
  },
  "language_info": {
   "codemirror_mode": {
    "name": "ipython",
    "version": 3
   },
   "file_extension": ".py",
   "mimetype": "text/x-python",
   "name": "python",
   "nbconvert_exporter": "python",
   "pygments_lexer": "ipython3",
   "version": "3.9.6"
  }
 },
 "nbformat": 4,
 "nbformat_minor": 5
}
