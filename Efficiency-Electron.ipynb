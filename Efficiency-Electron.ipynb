{
 "cells": [
  {
   "cell_type": "code",
   "execution_count": 28,
   "id": "interim-somewhere",
   "metadata": {},
   "outputs": [],
   "source": [
    "import numpy as np\n",
    "import ROOT\n",
    "\n",
    "# file_eff_EleID = ROOT.TFile.Open( \"efficiencies/electron/2017_ElectronTight.root\", \"READ\" )\n",
    "# file_eff_EleID = ROOT.TFile.Open( \"efficiencies/electron/2017/2017_ElectronTight.root\", \"READ\" )\n",
    "# file_eff_EleID = ROOT.TFile.Open( \"efficiencies/electron/2018/2018_ElectronTight.root\", \"READ\" )\n",
    "# file_eff_EleID = ROOT.TFile.Open( \"efficiencies/electron/id/2018/egammaEffi.txt_Ele_Tight_EGM2D.root\", \"READ\" )\n",
    "# file_eff_EleTRG = ROOT.TFile.Open( \"efficiencies/electron/trigger/2018/egammaEffi.txt_EGM2D-Trigger.root\", \"READ\" )\n",
    "file_eff_EleID = ROOT.TFile.Open( \"efficiencies/electron/id/2017/egammaEffi.txt_EGM2D_Tight_UL17.root\", \"READ\" )\n",
    "# file_eff_EleTRG = ROOT.TFile.Open( \"efficiencies/electron/trigger/2017/\", \"READ\" )"
   ]
  },
  {
   "cell_type": "code",
   "execution_count": 29,
   "id": "pressing-board",
   "metadata": {},
   "outputs": [
    {
     "name": "stdout",
     "output_type": "stream",
     "text": [
      "TFile**\t\tefficiencies/electron/id/2017/egammaEffi.txt_EGM2D_Tight_UL17.root\t\n",
      " TFile*\t\tefficiencies/electron/id/2017/egammaEffi.txt_EGM2D_Tight_UL17.root\t\n",
      "  KEY: TH2F\tEGamma_SF2D;1\te/#gamma scale factors\n",
      "  KEY: TH2F\tEGamma_EffData2D;1\te/#gamma scale factors\n",
      "  KEY: TH2F\tEGamma_EffMC2D;1\te/#gamma scale factors\n",
      "  KEY: TGraphErrors\tgrSF1D_0;1\tGraph\n",
      "  KEY: TGraphErrors\tgrSF1D_1;1\tGraph\n",
      "  KEY: TGraphErrors\tgrSF1D_2;1\tGraph\n",
      "  KEY: TGraphErrors\tgrSF1D_3;1\tGraph\n",
      "  KEY: TGraphErrors\tgrSF1D_4;1\tGraph\n",
      "  KEY: TGraphErrors\tgrSF1D_5;1\tGraph\n",
      "  KEY: TH2F\tstatData;1\te/#gamma absolute SF syst: statData \n",
      "  KEY: TH2F\tstatMC;1\te/#gamma absolute SF syst: statMC \n",
      "  KEY: TH2F\taltBkgModel;1\te/#gamma absolute SF syst: altBkgModel \n",
      "  KEY: TH2F\taltSignalModel;1\te/#gamma absolute SF syst: altSignalModel \n",
      "  KEY: TH2F\taltMCEff;1\te/#gamma absolute SF syst: altMCEff \n",
      "  KEY: TH2F\taltTagSelection;1\te/#gamma absolute SF syst: altTagSelection \n"
     ]
    }
   ],
   "source": [
    "file_eff_EleID.ls()"
   ]
  },
  {
   "cell_type": "code",
   "execution_count": 3,
   "id": "b0929d67",
   "metadata": {},
   "outputs": [
    {
     "name": "stdout",
     "output_type": "stream",
     "text": [
      "TFile**\t\tefficiencies/electron/trigger/2018/egammaEffi.txt_EGM2D-Trigger.root\t\n",
      " TFile*\t\tefficiencies/electron/trigger/2018/egammaEffi.txt_EGM2D-Trigger.root\t\n",
      "  KEY: TH2F\tEGamma_SF2D;1\te/#gamma scale factors\n",
      "  KEY: TH2F\tEGamma_EffData2D;1\te/#gamma scale factors\n",
      "  KEY: TH2F\tEGamma_EffMC2D;1\te/#gamma scale factors\n",
      "  KEY: TGraphErrors\tgrSF1D_0;1\tGraph\n",
      "  KEY: TGraphErrors\tgrSF1D_1;1\tGraph\n",
      "  KEY: TGraphErrors\tgrSF1D_2;1\tGraph\n",
      "  KEY: TGraphErrors\tgrSF1D_3;1\tGraph\n",
      "  KEY: TGraphErrors\tgrSF1D_4;1\tGraph\n",
      "  KEY: TGraphErrors\tgrSF1D_5;1\tGraph\n",
      "  KEY: TH2F\tstatData;1\te/#gamma absolute SF syst: statData \n",
      "  KEY: TH2F\tstatMC;1\te/#gamma absolute SF syst: statMC \n",
      "  KEY: TH2F\taltBkgModel;1\te/#gamma absolute SF syst: altBkgModel \n",
      "  KEY: TH2F\taltSignalModel;1\te/#gamma absolute SF syst: altSignalModel \n",
      "  KEY: TH2F\taltMCEff;1\te/#gamma absolute SF syst: altMCEff \n",
      "  KEY: TH2F\taltTagSelection;1\te/#gamma absolute SF syst: altTagSelection \n"
     ]
    }
   ],
   "source": [
    "file_eff_EleTRG.ls()"
   ]
  },
  {
   "cell_type": "code",
   "execution_count": 30,
   "id": "willing-master",
   "metadata": {},
   "outputs": [],
   "source": [
    "h_eff_sf_EleID_2D = file_eff_EleID.Get( \"EGamma_SF2D\" )"
   ]
  },
  {
   "cell_type": "code",
   "execution_count": 31,
   "id": "romantic-david",
   "metadata": {},
   "outputs": [
    {
     "name": "stdout",
     "output_type": "stream",
     "text": [
      "-2.25 -2.5 -2.0\n",
      "2.25 2.0 2.5\n",
      "15.0 10.0 20.0\n",
      "350.0 200.0 500.0\n"
     ]
    },
    {
     "name": "stderr",
     "output_type": "stream",
     "text": [
      "Warning in <TCanvas::Constructor>: Deleting canvas with same name: canvas1\n"
     ]
    },
    {
     "data": {
      "image/png": "[encoded data removed]",
      "text/plain": [
       "<IPython.core.display.Image object>"
      ]
     },
     "metadata": {},
     "output_type": "display_data"
    }
   ],
   "source": [
    "print ( h_eff_sf_EleID_2D.GetXaxis().GetBinCenter( 1 ),\n",
    "        h_eff_sf_EleID_2D.GetXaxis().GetBinLowEdge( 1 ),\n",
    "        h_eff_sf_EleID_2D.GetXaxis().GetBinUpEdge( 1 ) )\n",
    "print ( h_eff_sf_EleID_2D.GetXaxis().GetBinCenter( h_eff_sf_EleID_2D.GetNbinsX() ),\n",
    "        h_eff_sf_EleID_2D.GetXaxis().GetBinLowEdge( h_eff_sf_EleID_2D.GetNbinsX() ),\n",
    "        h_eff_sf_EleID_2D.GetXaxis().GetBinUpEdge( h_eff_sf_EleID_2D.GetNbinsX() ) )\n",
    "print ( h_eff_sf_EleID_2D.GetYaxis().GetBinCenter( 1 ),\n",
    "        h_eff_sf_EleID_2D.GetYaxis().GetBinLowEdge( 1 ),\n",
    "        h_eff_sf_EleID_2D.GetYaxis().GetBinUpEdge( 1 ) )\n",
    "print ( h_eff_sf_EleID_2D.GetYaxis().GetBinCenter( h_eff_sf_EleID_2D.GetNbinsY() ),\n",
    "        h_eff_sf_EleID_2D.GetYaxis().GetBinLowEdge( h_eff_sf_EleID_2D.GetNbinsY() ),\n",
    "        h_eff_sf_EleID_2D.GetYaxis().GetBinUpEdge( h_eff_sf_EleID_2D.GetNbinsY() ) )\n",
    "canvas1 = ROOT.TCanvas( \"canvas1\" )\n",
    "h_eff_sf_EleID_2D.Draw( \"COLZ\" )\n",
    "canvas1.Draw()"
   ]
  },
  {
   "cell_type": "code",
   "execution_count": 32,
   "id": "amazing-massage",
   "metadata": {},
   "outputs": [],
   "source": [
    "# class ElectronScaleFactor:\n",
    "#     def __init__( self, histos ):\n",
    "#         self.h2D_EleID = histos[ \"EleID\" ]\n",
    "#     def __call__( self, pt, eta ):\n",
    "#         sf_ = 1.\n",
    "#         unc_ = 0.\n",
    "#         if pt < 500.:\n",
    "#             bin2D_ = self.h2D_EleID.FindBin( eta, pt )\n",
    "#             sf_ = self.h2D_EleID.GetBinContent( bin2D_ )\n",
    "#             unc_ = self.h2D_EleID.GetBinError( bin2D_ )\n",
    "#         else:\n",
    "#             bin2D_ = self.h2D_EleID.FindBin( eta, self.h2D_EleID.GetYaxis().GetBinCenter( self.h2D_EleID.GetNbinsY() ) )\n",
    "#             sf_ = self.h2D_EleID.GetBinContent( bin2D_ )\n",
    "#             unc_ = self.h2D_EleID.GetBinError( bin2D_ )\n",
    "#         return ( sf_, unc_ )"
   ]
  },
  {
   "cell_type": "code",
   "execution_count": 33,
   "id": "empty-union",
   "metadata": {},
   "outputs": [],
   "source": [
    "class ElectronScaleFactor:\n",
    "    def __init__( self, histos ):\n",
    "        self.h2D_EleID = histos[ \"EleID\" ]\n",
    "        self.ptmax_ = 500.\n",
    "    def __call__( self, eta, pt ):\n",
    "        sf_ = 1.\n",
    "        unc_ = 0.\n",
    "        bin2D_ = None\n",
    "        if pt < self.ptmax_:\n",
    "            bin2D_ = self.h2D_EleID.FindBin( eta, pt )\n",
    "        else:\n",
    "            bin2D_ = self.h2D_EleID.FindBin( eta, self.h2D_EleID.GetYaxis().GetBinCenter( self.h2D_EleID.GetNbinsY() ) )\n",
    "        sf_ = self.h2D_EleID.GetBinContent( bin2D_ )\n",
    "        unc_ = self.h2D_EleID.GetBinError( bin2D_ )\n",
    "        return ( sf_, unc_ )"
   ]
  },
  {
   "cell_type": "code",
   "execution_count": 34,
   "id": "thick-wildlife",
   "metadata": {},
   "outputs": [],
   "source": [
    "electron_scale_factor_ = ElectronScaleFactor( histos = { \"EleID\": h_eff_sf_EleID_2D } )"
   ]
  },
  {
   "cell_type": "code",
   "execution_count": 35,
   "id": "awful-monaco",
   "metadata": {},
   "outputs": [
    {
     "data": {
      "text/plain": [
       "(0.9852440357208252, 0.009545465220012263)"
      ]
     },
     "execution_count": 35,
     "metadata": {},
     "output_type": "execute_result"
    }
   ],
   "source": [
    "electron_scale_factor_( 0.50, 150. )"
   ]
  },
  {
   "cell_type": "markdown",
   "id": "d725ee73",
   "metadata": {},
   "source": [
    "### Trigger"
   ]
  },
  {
   "cell_type": "code",
   "execution_count": 23,
   "id": "1fcfd478",
   "metadata": {},
   "outputs": [],
   "source": [
    "h_eff_sf_EleTRG_2D = file_eff_EleTRG.Get( \"EGamma_SF2D\" )"
   ]
  },
  {
   "cell_type": "code",
   "execution_count": 24,
   "id": "2d7a6a44",
   "metadata": {},
   "outputs": [
    {
     "name": "stdout",
     "output_type": "stream",
     "text": [
      "-2.25 -2.5 -2.0\n",
      "2.25 2.0 2.5\n",
      "15.0 10.0 20.0\n",
      "350.0 200.0 500.0\n"
     ]
    },
    {
     "data": {
      "image/png": "[encoded data removed]",
      "text/plain": [
       "<IPython.core.display.Image object>"
      ]
     },
     "metadata": {},
     "output_type": "display_data"
    }
   ],
   "source": [
    "print ( h_eff_sf_EleTRG_2D.GetXaxis().GetBinCenter( 1 ),\n",
    "        h_eff_sf_EleTRG_2D.GetXaxis().GetBinLowEdge( 1 ),\n",
    "        h_eff_sf_EleTRG_2D.GetXaxis().GetBinUpEdge( 1 ) )\n",
    "print ( h_eff_sf_EleTRG_2D.GetXaxis().GetBinCenter( h_eff_sf_EleTRG_2D.GetNbinsX() ),\n",
    "        h_eff_sf_EleTRG_2D.GetXaxis().GetBinLowEdge( h_eff_sf_EleTRG_2D.GetNbinsX() ),\n",
    "        h_eff_sf_EleTRG_2D.GetXaxis().GetBinUpEdge( h_eff_sf_EleTRG_2D.GetNbinsX() ) )\n",
    "print ( h_eff_sf_EleTRG_2D.GetYaxis().GetBinCenter( 1 ),\n",
    "        h_eff_sf_EleTRG_2D.GetYaxis().GetBinLowEdge( 1 ),\n",
    "        h_eff_sf_EleTRG_2D.GetYaxis().GetBinUpEdge( 1 ) )\n",
    "print ( h_eff_sf_EleTRG_2D.GetYaxis().GetBinCenter( h_eff_sf_EleTRG_2D.GetNbinsY() ),\n",
    "        h_eff_sf_EleTRG_2D.GetYaxis().GetBinLowEdge( h_eff_sf_EleTRG_2D.GetNbinsY() ),\n",
    "        h_eff_sf_EleTRG_2D.GetYaxis().GetBinUpEdge( h_eff_sf_EleTRG_2D.GetNbinsY() ) )\n",
    "canvas2 = ROOT.TCanvas( \"canvas2\" )\n",
    "h_eff_sf_EleTRG_2D.Draw( \"COLZ\" )\n",
    "canvas2.Draw()"
   ]
  },
  {
   "cell_type": "code",
   "execution_count": 25,
   "id": "934d935f",
   "metadata": {},
   "outputs": [],
   "source": [
    "electron_scale_factor_TRG_ = ElectronScaleFactor( histos = { \"EleID\": h_eff_sf_EleTRG_2D } )"
   ]
  },
  {
   "cell_type": "code",
   "execution_count": 27,
   "id": "35bdfb24",
   "metadata": {},
   "outputs": [
    {
     "data": {
      "text/plain": [
       "(1.0, 0.001414213562373095)"
      ]
     },
     "execution_count": 27,
     "metadata": {},
     "output_type": "execute_result"
    }
   ],
   "source": [
    "electron_scale_factor_TRG_( 1.0, 100. )"
   ]
  },
  {
   "cell_type": "code",
   "execution_count": null,
   "id": "a678dd66",
   "metadata": {},
   "outputs": [],
   "source": []
  }
 ],
 "metadata": {
  "kernelspec": {
   "display_name": "Python 3",
   "language": "python",
   "name": "python3"
  },
  "language_info": {
   "codemirror_mode": {
    "name": "ipython",
    "version": 3
   },
   "file_extension": ".py",
   "mimetype": "text/x-python",
   "name": "python",
   "nbconvert_exporter": "python",
   "pygments_lexer": "ipython3",
   "version": "3.9.6"
  }
 },
 "nbformat": 4,
 "nbformat_minor": 5
}
