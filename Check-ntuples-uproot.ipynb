{
 "cells": [
  {
   "cell_type": "code",
   "execution_count": 1,
   "id": "fb64b1a0",
   "metadata": {},
   "outputs": [
    {
     "name": "stdout",
     "output_type": "stream",
     "text": [
      "['/eos/home-a/antoniov/SWAN_projects/env/uproot-py39/lib/python3.9/site-packages', '/cvmfs/sft.cern.ch/lcg/releases/condor/8.9.11-e1651/x86_64-centos7-gcc11-opt/lib/python3', '/cvmfs/sft.cern.ch/lcg/views/LCG_102b_swan/x86_64-centos7-gcc11-opt/lib/python3.9/site-packages/itk', '/cvmfs/sft.cern.ch/lcg/views/LCG_102b_swan/x86_64-centos7-gcc11-opt/python', '/cvmfs/sft.cern.ch/lcg/views/LCG_102b_swan/x86_64-centos7-gcc11-opt/lib', '', '/cvmfs/sft.cern.ch/lcg/views/LCG_102b_swan/x86_64-centos7-gcc11-opt/lib/python3.9/site-packages', '/cvmfs/sft.cern.ch/lcg/releases/Python/3.9.6-b0f98/x86_64-centos7-gcc8-opt/lib/python39.zip', '/cvmfs/sft.cern.ch/lcg/releases/Python/3.9.6-b0f98/x86_64-centos7-gcc8-opt/lib/python3.9', '/cvmfs/sft.cern.ch/lcg/releases/Python/3.9.6-b0f98/x86_64-centos7-gcc8-opt/lib/python3.9/lib-dynload', '/eos/home-a/antoniov/SWAN_projects/env/uproot-py39/lib/python3.9/site-packages', '/cvmfs/sft.cern.ch/lcg/views/LCG_102b_swan/x86_64-centos7-gcc11-opt/lib/python3.9/site-packages/IPython/extensions', '/scratch/antoniov/.ipython']\n"
     ]
    }
   ],
   "source": [
    "import sys\n",
    "# sys.path.insert(0,'/eos/home-a/antoniov/SWAN_projects/env/uproot4/lib/python3.7/site-packages')\n",
    "# sys.path.insert(0,'/eos/home-a/antoniov/SWAN_projects/env/uproot/lib/python3.8/site-packages')\n",
    "sys.path.insert(0,'/eos/home-a/antoniov/SWAN_projects/env/uproot-py39/lib/python3.9/site-packages')\n",
    "print ( sys.path )\n",
    "\n",
    "import os\n",
    "import uproot\n",
    "import awkward as ak\n",
    "import numpy as np\n",
    "import pandas as pd\n",
    "import matplotlib.pyplot as plt\n",
    "import mplhep\n",
    "import numba as nb\n",
    "import h5py"
   ]
  },
  {
   "cell_type": "code",
   "execution_count": 6,
   "id": "909fba05",
   "metadata": {},
   "outputs": [
    {
     "name": "stdout",
     "output_type": "stream",
     "text": [
      "['totalEvents;1', 'totalEvents/h_total_events;1', 'demo;1', 'demo/SlimmedNtuple;1']\n",
      "Number of events in tree: 13551\n",
      "['muon_pt', 'muon_eta', 'muon_phi', 'muon_px', 'muon_py', 'muon_pz', 'muon_e', 'muon_charge', 'muon_iso', 'muon_dxy', 'muon_dz', 'muon_trackerLayersWithMeasurement', 'prefiring_weight', 'prefiring_weight_up', 'prefiring_weight_down', 'prefiring_weight_ECAL', 'prefiring_weight_ECAL_up', 'prefiring_weight_ECAL_down', 'prefiring_weight_Muon', 'prefiring_weight_Muon_up', 'prefiring_weight_Muon_down', 'electron_pt', 'electron_eta', 'electron_phi', 'electron_dxy', 'electron_dz', 'electron_px', 'electron_py', 'electron_pz', 'electron_e', 'electron_charge', 'electron_corr', 'electron_ecalTrkEnPostCorr', 'electron_ecalTrkEnErrPostCorr', 'electron_ecalTrkEnPreCorr', 'electron_energyScaleValue', 'electron_energyScaleUp', 'electron_energyScaleDown', 'electron_energySigmaValue', 'electron_energySigmaUp', 'electron_energySigmaDown', 'calo_met', 'met', 'met_x', 'met_y', 'met_phi', 'met_ptJER_Up', 'met_ptJER_Down', 'met_phiJER_Up', 'met_phiJER_Down', 'met_ptJES_Up', 'met_ptJES_Down', 'met_phiJES_Up', 'met_phiJES_Down', 'pfcand_nextracks', 'pfcand_nextracks_noDRl', 'num_bjets_ak8', 'num_bjets_ak4', 'num_jets_ak4', 'recoMWhad', 'recoMWlep', 'recoMWW', 'recoRapidityWW', 'recoWWpt', 'genWWpt', 'dphiWW', 'WLeptonicPt', 'WLeptonicPhi', 'WLeptonicEta', 'jet_cjer', 'jet_cjer_up', 'jet_cjer_down', 'jet_pt', 'jet_px', 'jet_py', 'jet_pz', 'jet_energy', 'jet_phi', 'jet_eta', 'jet_mass', 'jet_tau1', 'jet_tau2', 'jet_corrmass', 'jet_vertexz', 'jet_jer_res', 'jet_jer_sf', 'jet_jer_sfup', 'jet_jer_sfdown', 'pps_track_x', 'pps_track_y', 'pps_track_rpid', 'hlt', 'gen_W_pt', 'gen_W_charge', 'gen_muon_pt', 'gen_muon_eta', 'gen_muon_phi', 'gen_muon_charge', 'gen_muon_mass', 'gen_muon_energy', 'gen_electron_pt', 'gen_electron_eta', 'gen_electron_phi', 'gen_electron_charge', 'gen_electron_mass', 'gen_electron_energy', 'gen_proton_px', 'gen_proton_py', 'gen_proton_pz', 'gen_proton_energy', 'gen_proton_xi', 'gen_proton_t', 'proton_xi', 'proton_thx', 'proton_thy', 'proton_t', 'proton_ismultirp_', 'proton_rpid', 'proton_arm', 'proton_time', 'proton_trackx1', 'proton_tracky1', 'proton_trackx2', 'proton_tracky2', 'proton_trackpixshift1', 'proton_trackpixshift2', 'proton_rpid1', 'proton_rpid2', 'gen_jet_pt', 'gen_jet_phi', 'gen_jet_eta', 'gen_jet_energy', 'nVertices', 'pileupWeight', 'mc_pu_trueinteractions', 'mcWeight', 'run', 'event', 'lumiblock', 'crossingAngle', 'betaStar', 'instLumi']\n"
     ]
    }
   ],
   "source": [
    "fileName_ = \"/eos/home-a/antoniov/Workspace/analysis/data/PPS/WW_MC_Bkg_2018/WJetsToLNu_2J_TuneCP5_13TeV-amcatnloFXFX-pythia8.root\"\n",
    "\n",
    "root_ = uproot.open( fileName_ )\n",
    "print ( root_.keys() )\n",
    "\n",
    "# tree_path_ = \"demo/SlimmedNtuple\"\n",
    "tree_path_ = \"demo/SlimmedNtuple;1\"\n",
    "# tree_path_ = \"SlimmedNtuple\"\n",
    "\n",
    "calculate_hash_id = True\n",
    "\n",
    "print ( \"Number of events in tree: {}\".format( np.array( root_[ tree_path_ + \"/event\"] ).size ) )\n",
    "\n",
    "print ( root_[ tree_path_ ].keys() )"
   ]
  },
  {
   "cell_type": "code",
   "execution_count": null,
   "id": "f0b1a2e7",
   "metadata": {},
   "outputs": [],
   "source": []
  }
 ],
 "metadata": {
  "kernelspec": {
   "display_name": "Python 3",
   "language": "python",
   "name": "python3"
  },
  "language_info": {
   "codemirror_mode": {
    "name": "ipython",
    "version": 3
   },
   "file_extension": ".py",
   "mimetype": "text/x-python",
   "name": "python",
   "nbconvert_exporter": "python",
   "pygments_lexer": "ipython3",
   "version": "3.9.6"
  }
 },
 "nbformat": 4,
 "nbformat_minor": 5
}
